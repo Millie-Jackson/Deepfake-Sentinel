{
 "cells": [
  {
   "cell_type": "code",
   "execution_count": 1,
   "id": "97a6306e",
   "metadata": {},
   "outputs": [
    {
     "name": "stdout",
     "output_type": "stream",
     "text": [
      "🏃 View run righteous-quail-432 at: http://localhost:5000/#/experiments/0/runs/4e51901f967e4ba98ccb6756d435f6c4\n",
      "🧪 View experiment at: http://localhost:5000/#/experiments/0\n",
      "Logged test_metric = 42 to local MLflow server\n"
     ]
    }
   ],
   "source": [
    "import mlflow\n",
    "\n",
    "# Point MLflow at server\n",
    "mlflow.set_tracking_uri(\"http://localhost:5000\")\n",
    "\n",
    "# Start a new run and a test metric\n",
    "with mlflow.start_run():\n",
    "    mlflow.log_metric(\"test_metric\", 42)\n",
    "\n",
    "print(\"Logged test_metric = 42 to local MLflow server\")"
   ]
  },
  {
   "cell_type": "code",
   "execution_count": 3,
   "id": "dadca859",
   "metadata": {},
   "outputs": [
    {
     "ename": "ModuleNotFoundError",
     "evalue": "No module named 'cv2'",
     "output_type": "error",
     "traceback": [
      "\u001b[31m---------------------------------------------------------------------------\u001b[39m",
      "\u001b[31mModuleNotFoundError\u001b[39m                       Traceback (most recent call last)",
      "\u001b[36mCell\u001b[39m\u001b[36m \u001b[39m\u001b[32mIn[3]\u001b[39m\u001b[32m, line 1\u001b[39m\n\u001b[32m----> \u001b[39m\u001b[32m1\u001b[39m \u001b[38;5;28;01mimport\u001b[39;00m\u001b[38;5;250m \u001b[39m\u001b[34;01mcv2\u001b[39;00m\n\u001b[32m      2\u001b[39m \u001b[38;5;28;01mimport\u001b[39;00m\u001b[38;5;250m \u001b[39m\u001b[34;01mglob\u001b[39;00m\n\u001b[32m      3\u001b[39m \u001b[38;5;28;01mimport\u001b[39;00m\u001b[38;5;250m \u001b[39m\u001b[34;01mos\u001b[39;00m\n",
      "\u001b[31mModuleNotFoundError\u001b[39m: No module named 'cv2'"
     ]
    }
   ],
   "source": [
    "import cv2\n",
    "import glob\n",
    "import os\n",
    "import matplotlib.pyplot as plt\n",
    "import numpy as np"
   ]
  },
  {
   "cell_type": "code",
   "execution_count": null,
   "id": "fa6c5eef",
   "metadata": {},
   "outputs": [],
   "source": [
    "# Adjust video extensions\n",
    "video_files = glob.glob(\"data/video_raw/*.mp4\")\n",
    "print(f\"Found {len(video_files)} videos\")\n",
    "video_files[:5]"
   ]
  }
 ],
 "metadata": {
  "kernelspec": {
   "display_name": "deepfake-sentinel",
   "language": "python",
   "name": "python3"
  },
  "language_info": {
   "codemirror_mode": {
    "name": "ipython",
    "version": 3
   },
   "file_extension": ".py",
   "mimetype": "text/x-python",
   "name": "python",
   "nbconvert_exporter": "python",
   "pygments_lexer": "ipython3",
   "version": "3.13.5"
  }
 },
 "nbformat": 4,
 "nbformat_minor": 5
}
